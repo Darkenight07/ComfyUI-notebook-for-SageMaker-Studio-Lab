{
 "cells": [
  {
   "cell_type": "markdown",
   "id": "60f1890c-0de7-4474-a985-92bf27497329",
   "metadata": {
    "tags": []
   },
   "source": [
    "<center><span style=\"font-size: 24px;font-weight: bold\">ComfyUI Notebook</span></center>\n",
    "<center>Made with SageMaker Studio Lab by Laft and <a href=\"https://www.youtube.com/@dreamscapeyoutube\">Dreamscape AI</a>. Join this <a href=\"https://discord.gg/VCqcfZH2jV\">Discord Community</a> for support.</center>"
   ]
  },
  {
   "cell_type": "markdown",
   "id": "e4dd09f1-eb19-4fd1-ae06-fc8c604366fb",
   "metadata": {
    "jp-MarkdownHeadingCollapsed": true,
    "tags": []
   },
   "source": [
    "<h3><b>Step 1. Fresh Clean Install</b> (only first launch and troubleshooting)</h3>\n",
    "If you have a healthy and working install, SKIP to Step 3."
   ]
  },
  {
   "cell_type": "code",
   "execution_count": null,
   "id": "ea5bcd71-2b71-4d27-90c1-053444ef33f0",
   "metadata": {
    "tags": []
   },
   "outputs": [],
   "source": [
    "#Remove, clean and delete all files and environment.\n",
    "!rm -r /home/studio-lab-user/.cache\n",
    "!rm -r /home/studio-lab-user/.conda\n",
    "!conda remove -n \"env_name\" --all\n",
    "!rm -rf /home/studio-lab-user/*"
   ]
  },
  {
   "cell_type": "code",
   "execution_count": null,
   "id": "40cd846b-5168-4114-951c-dbee782454bf",
   "metadata": {
    "tags": []
   },
   "outputs": [],
   "source": [
    "#List of all folders. Make sure that the .conda file is 1.1GB.\n",
    "!du -h --max-depth=1 /home/studio-lab-user"
   ]
  },
  {
   "cell_type": "markdown",
   "id": "f05fa0e9-8141-471e-a9a5-b12cc04a9c94",
   "metadata": {},
   "source": [
    "<b>*Make sure that the .conda file is 1.1GB. If it is 0 then restart the Jupyter Lab*</b><br>\n",
    "*Your Browser Panel (on the left) should be empty.*<br>\n",
    "<b>Don't Forget to restart the Jupyter Lab</b> before continuing with Step 2."
   ]
  },
  {
   "cell_type": "markdown",
   "id": "af2f3f5b-f9ba-4221-92fa-126600e39d9b",
   "metadata": {
    "tags": []
   },
   "source": [
    "<h3><b>Step 2. Install ComfyUI and essentials </b>(only first launch and troubleshooting)</h3>\n",
    "This will install conda env, python environments and nodes."
   ]
  },
  {
   "cell_type": "code",
   "execution_count": null,
   "id": "7ad40e45-9797-4188-be16-2e6c4d218ddc",
   "metadata": {
    "tags": []
   },
   "outputs": [],
   "source": [
    "#Install all essentials for ComfyUI:\n",
    "%cd\n",
    "!conda install -c conda-forge libglib -y & conda update -n base conda -y\n",
    "!git clone --depth 1 https://github.com/comfyanonymous/ComfyUI\n",
    "!pip install pyngrok\n",
    "%cd ~/ComfyUI\n",
    "!pip install -r requirements.txt\n",
    "!pip install torchvision\n",
    "\n",
    "#Isntall nodes:\n",
    "%cd ~/ComfyUI/custom_nodes\n",
    "!git clone https://github.com/ssitu/ComfyUI_UltimateSDUpscale --recursive\n",
    "!git clone https://github.com/ltdrdata/ComfyUI-Manager\n",
    "!git clone https://github.com/pythongosssss/ComfyUI-Custom-Scripts\n",
    "!git clone https://github.com/city96/SD-Latent-Upscaler\n",
    "!git clone https://github.com/LucianoCirino/efficiency-nodes-comfyui\n",
    "!git clone https://github.com/BlenderNeko/ComfyUI_ADV_CLIP_emb\n",
    "!git clone https://github.com/ssitu/ComfyUI_NestedNodeBuilder\n",
    "\n"
   ]
  },
  {
   "cell_type": "markdown",
   "id": "2f8db6a2-a6f2-49aa-8037-c591a378c4af",
   "metadata": {
    "jp-MarkdownHeadingCollapsed": true,
    "tags": []
   },
   "source": [
    "<h3><b>Step 3. Downloads VAE, Models, Checkpoints, Embeddings and Upscalers</b></h3>\n",
    "Remove the # to activate the desired models and checkpoints."
   ]
  },
  {
   "cell_type": "code",
   "execution_count": null,
   "id": "413c2597-08ad-4d53-b7a0-93430c4f65fc",
   "metadata": {
    "tags": []
   },
   "outputs": [],
   "source": [
    "#waifu diffusion VAE:\n",
    "!curl -Lo \"/home/studio-lab-user/ComfyUI/models/vae/wd.vae.safetensors\" \"https://huggingface.co/NoCrypt/resources/resolve/main/VAE/wd.vae.safetensors\"\n",
    "\n",
    "#Remove the hashtag for desired checkpoints. Be careful, maximum 2 models recommended. The storage is limited !\n",
    "\n",
    "#Realistic checkpoints:\n",
    "#!curl -Lo \"/home/studio-lab-user/ComfyUI/models/checkpoints/Epicrealismv5.safetensors\" \"https://civitai.com/api/download/models/134065?type=Model&format=SafeTensor&size=pruned&fp=fp16\"\n",
    "#!curl -Lo \"/home/studio-lab-user/ComfyUI/models/checkpoints/Cyberrealistic.safetensors\" \"https://civitai.com/api/download/models/138176?type=Model&format=SafeTensor&size=pruned&fp=fp16\"\n",
    "#!curl -Lo \"/home/studio-lab-user/ComfyUI/models/checkpoints/Majicmix.safetensors\" \"https://civitai.com/api/download/models/94640\"\n",
    "#!curl -Lo \"/home/studio-lab-user/ComfyUI/models/checkpoints/Photon.safetensors\" \"https://civitai.com/api/download/models/90072\"\n",
    "#!curl -Lo \"/home/studio-lab-user/ComfyUI/models/checkpoints/chilloutmix.safetensors\" \"https://civitai.com/api/download/models/11745\"\n",
    "\n",
    "#Anime checkpoints:\n",
    "#!curl -Lo \"/home/studio-lab-user/ComfyUI/models/checkpoints/Anything_V4_5.safetensors\" \"https://civitai.com/api/download/models/5581\"\n",
    "#!curl -Lo \"/home/studio-lab-user/ComfyUI/models/checkpoints/Anything_V5.safetensors\" \"https://civitai.com/api/download/models/30163\"\n",
    "#!curl -Lo \"/home/studio-lab-user/ComfyUI/models/checkpoints/DivineEleganceMix_V6\" \"https://civitai.com/api/download/models/122702\"\n",
    "#!curl -Lo \"/home/studio-lab-user/ComfyUI/models/checkpoints/AnimeCreative\" \"https://civitai.com/api/download/models/163570\"\n",
    "#!curl -Lo \"/home/studio-lab-user/ComfyUI/models/checkpoints/Counterfeit_V3\" \"https://civitai.com/api/download/models/57618\"\n",
    "\n",
    "#Embeddings:\n",
    "!rm -r /home/studio-lab-user/ComfyUI/models/embeddings\n",
    "%cd ~/ComfyUI/models\n",
    "!git clone https://huggingface.co/Laft/embeddings\n",
    "\n",
    "#Upscalers:\n",
    "!curl -Lo \"/home/studio-lab-user/ComfyUI/models/upscale_models/4x-UltraSharp.pth\" \"https://civitai.com/api/download/models/125843\"\n",
    "!curl -Lo \"/home/studio-lab-user/ComfyUI/models/upscale_models/4x_fatal_Anime_500000_G.pth\" \"https://huggingface.co/Laft/4x_fatal_Anime_500000_G/resolve/main/4x_fatal_Anime_500000_G.pth\""
   ]
  },
  {
   "cell_type": "markdown",
   "id": "9e365285-86f2-4a0b-bcdc-b0c169161083",
   "metadata": {},
   "source": [
    "Controlnet Models"
   ]
  },
  {
   "cell_type": "code",
   "execution_count": null,
   "id": "761d85cf-9136-4bee-81bc-327ab71850c7",
   "metadata": {
    "tags": []
   },
   "outputs": [],
   "source": [
    "#Choose only few Controlnet Models. The storage is limited !\n",
    "#!curl -Lo \"/home/studio-lab-user/ComfyUI/models/controlnet/openpose.safetensors\" \"https://huggingface.co/ckpt/ControlNet-v1-1/resolve/main/control_v11p_sd15_openpose_fp16.safetensors\"\n",
    "#!curl -Lo \"/home/studio-lab-user/ComfyUI/models/controlnet/shuffle.safetensors\" \"https://huggingface.co/ckpt/ControlNet-v1-1/resolve/main/control_v11e_sd15_shuffle_fp16.safetensors\"\n",
    "#!curl -Lo \"/home/studio-lab-user/ComfyUI/models/controlnet/canny.safetensors\" \"https://huggingface.co/ckpt/ControlNet-v1-1/resolve/main/control_v11p_sd15_canny_fp16.safetensors\"\n",
    "#!curl -Lo \"/home/studio-lab-user/ComfyUI/models/controlnet/depth.safetensors\" \"https://huggingface.co/ckpt/ControlNet-v1-1/resolve/main/control_v11f1p_sd15_depth_fp16.safetensors\"\n",
    "#!curl -Lo \"/home/studio-lab-user/ComfyUI/models/controlnet/tile.safetensors\" \"https://huggingface.co/ckpt/ControlNet-v1-1/resolve/main/control_v11f1e_sd15_tile_fp16.safetensors\"\n",
    "#!curl -Lo \"/home/studio-lab-user/ComfyUI/models/controlnet/inpaint.safetensors\" \"https://huggingface.co/ckpt/ControlNet-v1-1/resolve/main/control_v11p_sd15_inpaint_fp16.safetensors\"\n",
    "#!curl -Lo \"/home/studio-lab-user/ComfyUI/models/controlnet/lineart.safetensors\" \"https://huggingface.co/ckpt/ControlNet-v1-1/resolve/main/control_v11p_sd15_lineart_fp16.safetensors\"\n",
    "#!curl -Lo \"/home/studio-lab-user/ComfyUI/models/controlnet/mlsd.safetensors\" \"https://huggingface.co/ckpt/ControlNet-v1-1/resolve/main/control_v11p_sd15_mlsd_fp16.safetensors\"\n",
    "#!curl -Lo \"/home/studio-lab-user/ComfyUI/models/controlnet/normalbae.safetensors\" \"https://huggingface.co/ckpt/ControlNet-v1-1/resolve/main/control_v11p_sd15_normalbae_fp16.safetensors\"\n",
    "#!curl -Lo \"/home/studio-lab-user/ComfyUI/models/controlnet/scribble.safetensors\" \"https://huggingface.co/ckpt/ControlNet-v1-1/resolve/main/control_v11p_sd15_scribble_fp16.safetensors\"\n",
    "#!curl -Lo \"/home/studio-lab-user/ComfyUI/models/controlnet/softedge.safetensors\" \"https://huggingface.co/ckpt/ControlNet-v1-1/resolve/main/control_v11p_sd15_softedge_fp16.safetensors\"\n",
    "#!curl -Lo \"/home/studio-lab-user/ComfyUI/models/controlnet/lineart_anime.safetensors\" \"https://huggingface.co/ckpt/ControlNet-v1-1/resolve/main/control_v11p_sd15s2_lineart_anime_fp16.safetensors\"\n",
    "\n",
    "#Download lora manually here\n",
    "#!curl -Lo \"/home/studio-lab-user/ComfyUI/models/loras/adddetailer.safetensors\" \"https://civitai.com/api/download/models/62833\"\n",
    "#!curl -Lo \"/home/studio-lab-user/ComfyUI/models/loras/epinoiseoffset.safetensors\" \"https://civitai.com/api/download/models/16576?type=Model&format=SafeTensor&size=full&fp=fp16\""
   ]
  },
  {
   "cell_type": "markdown",
   "id": "6a87cf1c-7b77-4618-9576-c7e4181dde49",
   "metadata": {
    "tags": []
   },
   "source": [
    "<h3><b>Step 4. Launch ComfyUI</b></h3>\n",
    "Don't forget to paste your NGROK token below. Create a <a href=\"https://dashboard.ngrok.com/get-started/your-authtoken\">Ngrok account here</a>"
   ]
  },
  {
   "cell_type": "code",
   "execution_count": null,
   "id": "9ea3ea45-056c-4863-a06a-3f7422bf7e20",
   "metadata": {
    "tags": []
   },
   "outputs": [],
   "source": [
    "ngrok_token=\"PASTE_YOUR_TOKEN_HERE\"\n",
    "\n",
    "from threading import Timer\n",
    "from queue import Queue\n",
    "from pyngrok import ngrok\n",
    "\n",
    "def ngrok_tunnel(port,queue,auth_token):\n",
    "    ngrok.set_auth_token(auth_token)\n",
    "    url = ngrok.connect(port)\n",
    "    queue.put(url)\n",
    "\n",
    "ngrok_output_queue = Queue()\n",
    "ngrok_thread = Timer(2, ngrok_tunnel, args=(8188, ngrok_output_queue, ngrok_token))\n",
    "ngrok_thread.start()\n",
    "ngrok_thread.join()\n",
    "print(ngrok_output_queue.get())\n",
    "\n",
    "%cd ~/ComfyUI\n",
    "!python main.py --preview-method auto --enable-cors-header --use-pytorch-cross-attention"
   ]
  },
  {
   "cell_type": "markdown",
   "id": "c9058578-7096-44ce-8ea2-0153cf151c44",
   "metadata": {
    "tags": []
   },
   "source": [
    "<h3><b>Step 5. Download all your outputs</b></h3>\n",
    "Don't forget to save your images. Recommended to save after each session."
   ]
  },
  {
   "cell_type": "code",
   "execution_count": null,
   "id": "fdeece9b-7e0a-4c93-aec2-6d96b95cdc84",
   "metadata": {
    "tags": []
   },
   "outputs": [],
   "source": [
    "#download and compress all outputs. If more than 200mb, it will zip in multiple files.\n",
    "import os\n",
    "import zipfile\n",
    "def zip_folder(input_folder, output_folder, max_size_mb=20):\n",
    "    # Create the output folder if it doesn't exist\n",
    "    os.makedirs(output_folder, exist_ok=True)\n",
    "    zip_number = 1\n",
    "    current_zip_size = 0\n",
    "    current_zip_name = os.path.join(output_folder, f\"part_{zip_number}.zip\")    \n",
    "    with zipfile.ZipFile(current_zip_name, 'w', zipfile.ZIP_DEFLATED) as current_zip:\n",
    "        for root, _, files in os.walk(input_folder):\n",
    "            for file in files:\n",
    "                file_path = os.path.join(root, file)\n",
    "                file_size = os.path.getsize(file_path)           \n",
    "                # Check if adding the current file exceeds the max size\n",
    "                if current_zip_size + file_size > max_size_mb * 1024 * 1024:\n",
    "                    # Close the current zip file\n",
    "                    current_zip.close()             \n",
    "                    # Start a new zip file\n",
    "                    zip_number += 1\n",
    "                    current_zip_name = os.path.join(output_folder, f\"part_{zip_number}.zip\")\n",
    "                    current_zip = zipfile.ZipFile(current_zip_name, 'w', zipfile.ZIP_DEFLATED)\n",
    "                    current_zip_size = 0  \n",
    "                # Add the file to the current zip\n",
    "                current_zip.write(file_path, os.path.relpath(file_path, input_folder))\n",
    "                current_zip_size += file_size\n",
    "# Specify the input folder to be zipped\n",
    "input_folder = 'ComfyUI/output'  # Replace with the path to your input folder\n",
    "# Specify the output folder where zip files will be saved\n",
    "output_folder = '/home/studio-lab-user/zip folder'  # Replace with the path to your output folder\n",
    "# Specify the maximum size for each zip file in MB\n",
    "max_size_mb = 200\n",
    "# Create zip files with a maximum size of 20MB\n",
    "zip_folder(input_folder, output_folder, max_size_mb)"
   ]
  },
  {
   "cell_type": "code",
   "execution_count": null,
   "id": "b8a56c3a-f0af-4c87-bf83-c99942a3a3b0",
   "metadata": {},
   "outputs": [],
   "source": [
    "#delete and empty the OUTPUT folder\n",
    "!rm -rf /home/studio-lab-user/ComfyUI/output/*"
   ]
  },
  {
   "cell_type": "markdown",
   "id": "1d0a3313-0c65-44ef-b89e-459fa779e84b",
   "metadata": {
    "jp-MarkdownHeadingCollapsed": true,
    "tags": []
   },
   "source": [
    "<h4><b> TROUBLESHOOTING </b></h4>\n",
    "If your setup folder doesn't have problem, skip this step."
   ]
  },
  {
   "cell_type": "code",
   "execution_count": null,
   "id": "aaea3473-1ac6-40d8-98c2-a29386ca147e",
   "metadata": {
    "tags": []
   },
   "outputs": [],
   "source": [
    "#List all folders and sizes\n",
    "!du -h --max-depth=1 /home/studio-lab-user/stable-diffusion-webui/outputs"
   ]
  },
  {
   "cell_type": "code",
   "execution_count": null,
   "id": "02ccc281-c43a-4bc7-9b97-adf6bea6f8f6",
   "metadata": {
    "tags": []
   },
   "outputs": [],
   "source": [
    "!conda list"
   ]
  },
  {
   "cell_type": "code",
   "execution_count": null,
   "id": "ab02c781-46ea-4f07-8c4b-f329069d903b",
   "metadata": {
    "tags": []
   },
   "outputs": [],
   "source": [
    "#clean remove all env, cache and file\n",
    "!rm -r /home/studio-lab-user/.cache\n",
    "!rm -r /home/studio-lab-user/.stable-diffusion-webui\n",
    "!conda remove -n \"env_name\" --all\n",
    "!rm -rf /home/studio-lab-user/*"
   ]
  },
  {
   "cell_type": "markdown",
   "id": "bf5499c3-18fb-4325-8c37-5298751e4f97",
   "metadata": {},
   "source": [
    "MORE TROUBLESHOOTING"
   ]
  },
  {
   "cell_type": "code",
   "execution_count": null,
   "id": "38f3b678-ce14-47c8-b8ca-5b2295fc628c",
   "metadata": {},
   "outputs": [],
   "source": [
    "%cd ~/ComfyUI\n",
    "!pip install -r requirements.txt"
   ]
  },
  {
   "cell_type": "code",
   "execution_count": null,
   "id": "a2c7cbde-9605-4493-88fd-8087054d8f61",
   "metadata": {
    "tags": []
   },
   "outputs": [],
   "source": [
    "#remove all checkpoints\n",
    "!rm -rf /home/studio-lab-user/ComfyUI/models/checkpoints/*"
   ]
  },
  {
   "cell_type": "code",
   "execution_count": null,
   "id": "ea3371f1-c5dd-47a6-81f8-b80de19376cb",
   "metadata": {},
   "outputs": [],
   "source": [
    "!rm -r /home/studio-lab-user/.ngrok2"
   ]
  },
  {
   "cell_type": "code",
   "execution_count": null,
   "id": "5bb61644-e972-402e-aff6-c6445ff99965",
   "metadata": {
    "tags": []
   },
   "outputs": [],
   "source": [
    "import torch\n",
    "torch.cuda.get_device_name(0)"
   ]
  },
  {
   "cell_type": "code",
   "execution_count": null,
   "id": "d6a8c055-4668-40cd-aa41-8bc6474c9ff0",
   "metadata": {
    "tags": []
   },
   "outputs": [],
   "source": [
    "import torch\n",
    "print(torch.version.cuda)"
   ]
  },
  {
   "cell_type": "code",
   "execution_count": null,
   "id": "6b3f9867-000e-43f4-9b04-ae5c0d9166bd",
   "metadata": {
    "tags": []
   },
   "outputs": [],
   "source": [
    "!pip uninstall torchvision -y"
   ]
  },
  {
   "cell_type": "code",
   "execution_count": null,
   "id": "2d990595-7f34-4946-9a21-197306222434",
   "metadata": {
    "tags": []
   },
   "outputs": [],
   "source": [
    "!pip install torchvision==0.10.0"
   ]
  },
  {
   "cell_type": "code",
   "execution_count": null,
   "id": "5b85fa10-c03f-4942-a227-02d1cbe90f4a",
   "metadata": {
    "tags": []
   },
   "outputs": [],
   "source": [
    "!pip install torch==1.10.0"
   ]
  },
  {
   "cell_type": "code",
   "execution_count": null,
   "id": "abc7178a-c5b7-4722-8e9e-728308d83d70",
   "metadata": {
    "tags": []
   },
   "outputs": [],
   "source": [
    "!pip install xformers==0.0.20 tomesd==0.1.3 pytorch-lightning==1.9.4 accelerate==0.21.0"
   ]
  }
 ],
 "metadata": {
  "kernelspec": {
   "display_name": "default:Python",
   "language": "python",
   "name": "conda-env-default-py"
  },
  "language_info": {
   "codemirror_mode": {
    "name": "ipython",
    "version": 3
   },
   "file_extension": ".py",
   "mimetype": "text/x-python",
   "name": "python",
   "nbconvert_exporter": "python",
   "pygments_lexer": "ipython3",
   "version": "3.9.16"
  }
 },
 "nbformat": 4,
 "nbformat_minor": 5
}
